{
  "nbformat": 4,
  "nbformat_minor": 0,
  "metadata": {
    "colab": {
      "provenance": [],
      "authorship_tag": "ABX9TyP5EQrcXWbSPqlrV7Ccoh0I",
      "include_colab_link": true
    },
    "kernelspec": {
      "name": "python3",
      "display_name": "Python 3"
    },
    "language_info": {
      "name": "python"
    }
  },
  "cells": [
    {
      "cell_type": "markdown",
      "metadata": {
        "id": "view-in-github",
        "colab_type": "text"
      },
      "source": [
        "<a href=\"https://colab.research.google.com/github/COAP230023/atividade-praticas-em-numpy-VictorPalermo/blob/main/Treino_de_NumPy.ipynb\" target=\"_parent\"><img src=\"https://colab.research.google.com/assets/colab-badge.svg\" alt=\"Open In Colab\"/></a>"
      ]
    },
    {
      "cell_type": "code",
      "source": [
        "import numpy as np"
      ],
      "metadata": {
        "id": "aYra4oK4PZZX"
      },
      "execution_count": 136,
      "outputs": []
    },
    {
      "cell_type": "code",
      "source": [
        "#1\n",
        "array = np.zeros(10)\n",
        "print(array)\n",
        "print(array.dtype)\n",
        "print(array.shape)"
      ],
      "metadata": {
        "colab": {
          "base_uri": "https://localhost:8080/"
        },
        "id": "O-Xjwq4RBXRv",
        "outputId": "64fd3365-4875-419c-fd62-4b0558f82a23"
      },
      "execution_count": 137,
      "outputs": [
        {
          "output_type": "stream",
          "name": "stdout",
          "text": [
            "[0. 0. 0. 0. 0. 0. 0. 0. 0. 0.]\n",
            "float64\n",
            "(10,)\n"
          ]
        }
      ]
    },
    {
      "cell_type": "code",
      "source": [
        "#2\n",
        "array = np.ones(10)\n",
        "array_float = array.astype(np.float64)\n",
        "print(array_float)\n",
        "print(array_float.dtype)"
      ],
      "metadata": {
        "colab": {
          "base_uri": "https://localhost:8080/"
        },
        "id": "2O5cRaFUELPO",
        "outputId": "d95f71e5-9e09-44a1-a1d7-a2f4ff328f78"
      },
      "execution_count": 138,
      "outputs": [
        {
          "output_type": "stream",
          "name": "stdout",
          "text": [
            "[1. 1. 1. 1. 1. 1. 1. 1. 1. 1.]\n",
            "float64\n"
          ]
        }
      ]
    },
    {
      "cell_type": "code",
      "source": [
        "#3\n",
        "array = np.arange(0, 10)\n",
        "print(array)"
      ],
      "metadata": {
        "colab": {
          "base_uri": "https://localhost:8080/"
        },
        "id": "86pZ-ZQHGM1V",
        "outputId": "35d5b167-89e5-4a88-e42a-413e0fad8ecf"
      },
      "execution_count": 139,
      "outputs": [
        {
          "output_type": "stream",
          "name": "stdout",
          "text": [
            "[0 1 2 3 4 5 6 7 8 9]\n"
          ]
        }
      ]
    },
    {
      "cell_type": "code",
      "source": [
        "#4\n",
        "array = np.reshape(np.arange(0, 9), (3,3))\n",
        "print(array)"
      ],
      "metadata": {
        "colab": {
          "base_uri": "https://localhost:8080/"
        },
        "id": "U8TYhx8mP7TD",
        "outputId": "b2df70e4-d8e8-4fa2-b2c7-fe9ba430f446"
      },
      "execution_count": 140,
      "outputs": [
        {
          "output_type": "stream",
          "name": "stdout",
          "text": [
            "[[0 1 2]\n",
            " [3 4 5]\n",
            " [6 7 8]]\n"
          ]
        }
      ]
    },
    {
      "cell_type": "code",
      "source": [
        "#5\n",
        "v = np.array([1,2,0,0,4,0])\n",
        "print(np.nonzero(v))"
      ],
      "metadata": {
        "colab": {
          "base_uri": "https://localhost:8080/"
        },
        "id": "DBKxoNh8Ppyy",
        "outputId": "08a7ccd7-f886-4086-cf33-b32a65d6fd82"
      },
      "execution_count": 141,
      "outputs": [
        {
          "output_type": "stream",
          "name": "stdout",
          "text": [
            "(array([0, 1, 4]),)\n"
          ]
        }
      ]
    },
    {
      "cell_type": "code",
      "source": [
        "#6\n",
        "vetor = np.linspace(0, 1, 12)\n",
        "print(vetor)"
      ],
      "metadata": {
        "colab": {
          "base_uri": "https://localhost:8080/"
        },
        "id": "uuDl7bfRPwc-",
        "outputId": "583534eb-1fef-4ce8-934b-c4dd392165dd"
      },
      "execution_count": 142,
      "outputs": [
        {
          "output_type": "stream",
          "name": "stdout",
          "text": [
            "[0.         0.09090909 0.18181818 0.27272727 0.36363636 0.45454545\n",
            " 0.54545455 0.63636364 0.72727273 0.81818182 0.90909091 1.        ]\n"
          ]
        }
      ]
    },
    {
      "cell_type": "code",
      "source": [
        "#7\n",
        "matriz = np.eye(5)\n",
        "print(matriz)"
      ],
      "metadata": {
        "colab": {
          "base_uri": "https://localhost:8080/"
        },
        "id": "CZsMifRCPwo8",
        "outputId": "c1898f3a-b771-4e54-d5ec-d79bcbe6b872"
      },
      "execution_count": 143,
      "outputs": [
        {
          "output_type": "stream",
          "name": "stdout",
          "text": [
            "[[1. 0. 0. 0. 0.]\n",
            " [0. 1. 0. 0. 0.]\n",
            " [0. 0. 1. 0. 0.]\n",
            " [0. 0. 0. 1. 0.]\n",
            " [0. 0. 0. 0. 1.]]\n"
          ]
        }
      ]
    },
    {
      "cell_type": "code",
      "source": [
        "#8\n",
        "rng = np.random.default_rng(42)\n",
        "array = rng.random((3,3,3))\n",
        "print(array)"
      ],
      "metadata": {
        "colab": {
          "base_uri": "https://localhost:8080/"
        },
        "id": "q2V9YkwzPwz6",
        "outputId": "3914eb91-3cc7-448b-b3c1-25a1fecdada9"
      },
      "execution_count": 144,
      "outputs": [
        {
          "output_type": "stream",
          "name": "stdout",
          "text": [
            "[[[0.77395605 0.43887844 0.85859792]\n",
            "  [0.69736803 0.09417735 0.97562235]\n",
            "  [0.7611397  0.78606431 0.12811363]]\n",
            "\n",
            " [[0.45038594 0.37079802 0.92676499]\n",
            "  [0.64386512 0.82276161 0.4434142 ]\n",
            "  [0.22723872 0.55458479 0.06381726]]\n",
            "\n",
            " [[0.82763117 0.6316644  0.75808774]\n",
            "  [0.35452597 0.97069802 0.89312112]\n",
            "  [0.7783835  0.19463871 0.466721  ]]]\n"
          ]
        }
      ]
    },
    {
      "cell_type": "code",
      "source": [
        "#9\n",
        "matriz = np.random.rand(10,10)\n",
        "print(\"min:\", matriz.min(), \"I max:\", matriz.max())"
      ],
      "metadata": {
        "colab": {
          "base_uri": "https://localhost:8080/"
        },
        "id": "H-GHKXooPw-Y",
        "outputId": "dbe63a68-7934-4b3b-f6d7-b3bdc8bb784c"
      },
      "execution_count": 145,
      "outputs": [
        {
          "output_type": "stream",
          "name": "stdout",
          "text": [
            "min: 0.01726965696009064 I max: 0.9951739177567773\n"
          ]
        }
      ]
    },
    {
      "cell_type": "code",
      "source": [
        "#10\n",
        "x = np.array([1,2,3,4,5], dtype=float)\n",
        "x_normalizado = (x - x.mean()) / x.std()\n",
        "print(x_normalizado)"
      ],
      "metadata": {
        "colab": {
          "base_uri": "https://localhost:8080/"
        },
        "id": "vavE-txsPxIm",
        "outputId": "afb857dc-a1c2-4631-a0ee-054205ac8100"
      },
      "execution_count": 146,
      "outputs": [
        {
          "output_type": "stream",
          "name": "stdout",
          "text": [
            "[-1.41421356 -0.70710678  0.          0.70710678  1.41421356]\n"
          ]
        }
      ]
    },
    {
      "cell_type": "code",
      "source": [
        "#11\n",
        "array = np.array([1,2,3], dtype=np.int32)\n",
        "array_float32 = array.astype(np.float32)\n",
        "array_int64 = array_float32.astype(np.int64)\n",
        "print(array_float32, array_int64)"
      ],
      "metadata": {
        "colab": {
          "base_uri": "https://localhost:8080/"
        },
        "id": "3h8YXQASPxSy",
        "outputId": "33369087-5076-4df8-c391-5a8ccadcd8df"
      },
      "execution_count": 147,
      "outputs": [
        {
          "output_type": "stream",
          "name": "stdout",
          "text": [
            "[1. 2. 3.] [1 2 3]\n"
          ]
        }
      ]
    },
    {
      "cell_type": "code",
      "source": [
        "#12\n",
        "a = np.array([2,5,7,1,9])\n",
        "a_clipped = np.clip(a, 0, 5)\n",
        "print(a_clipped)"
      ],
      "metadata": {
        "colab": {
          "base_uri": "https://localhost:8080/"
        },
        "id": "gTXnL8H9PxcP",
        "outputId": "a22c54a1-d40a-45eb-df53-096d5042f707"
      },
      "execution_count": 148,
      "outputs": [
        {
          "output_type": "stream",
          "name": "stdout",
          "text": [
            "[2 5 5 1 5]\n"
          ]
        }
      ]
    },
    {
      "cell_type": "code",
      "source": [
        "#13\n",
        "vetor = np.arange(10)\n",
        "vetor_inv = np.flip(vetor)\n",
        "print(vetor_inv)"
      ],
      "metadata": {
        "colab": {
          "base_uri": "https://localhost:8080/"
        },
        "id": "UAnkNDvsPxlv",
        "outputId": "b8295430-85a7-4cd1-fffb-3b94c8cd5c1f"
      },
      "execution_count": 149,
      "outputs": [
        {
          "output_type": "stream",
          "name": "stdout",
          "text": [
            "[9 8 7 6 5 4 3 2 1 0]\n"
          ]
        }
      ]
    },
    {
      "cell_type": "code",
      "source": [
        "#14\n",
        "a = np.array([1,2,3])\n",
        "b = np.array([4,5,6])\n",
        "hstack = np.hstack((a,b))\n",
        "vstack = np.vstack((a,b))\n",
        "print(\"horizontal:\", hstack)\n",
        "print(\"vertical:\\n\", vstack)"
      ],
      "metadata": {
        "colab": {
          "base_uri": "https://localhost:8080/"
        },
        "id": "_SxAwlFbPxww",
        "outputId": "4d719e03-a97f-4827-c6a9-6f17818cd930"
      },
      "execution_count": 150,
      "outputs": [
        {
          "output_type": "stream",
          "name": "stdout",
          "text": [
            "horizontal: [1 2 3 4 5 6]\n",
            "vertical:\n",
            " [[1 2 3]\n",
            " [4 5 6]]\n"
          ]
        }
      ]
    },
    {
      "cell_type": "code",
      "source": [
        "#15\n",
        "matriz = np.eye(4) * 5\n",
        "print(matriz)"
      ],
      "metadata": {
        "colab": {
          "base_uri": "https://localhost:8080/"
        },
        "id": "Twcmh2y1Px8P",
        "outputId": "31c3c91e-6cd0-48da-bacc-220e93e0ded0"
      },
      "execution_count": 151,
      "outputs": [
        {
          "output_type": "stream",
          "name": "stdout",
          "text": [
            "[[5. 0. 0. 0.]\n",
            " [0. 5. 0. 0.]\n",
            " [0. 0. 5. 0.]\n",
            " [0. 0. 0. 5.]]\n"
          ]
        }
      ]
    },
    {
      "cell_type": "code",
      "source": [
        "#16\n",
        "A = np.arange(12).reshape(3,4)\n",
        "print(\"16. Soma linhas:\", A.sum(axis=1))\n",
        "print(\"16. Soma colunas:\", A.sum(axis=0))"
      ],
      "metadata": {
        "colab": {
          "base_uri": "https://localhost:8080/"
        },
        "id": "y2PtLtyRPyGA",
        "outputId": "727fd334-17f4-41e6-96a5-5a9a5f33e4f9"
      },
      "execution_count": 152,
      "outputs": [
        {
          "output_type": "stream",
          "name": "stdout",
          "text": [
            "16. Soma linhas: [ 6 22 38]\n",
            "16. Soma colunas: [12 15 18 21]\n"
          ]
        }
      ]
    },
    {
      "cell_type": "code",
      "source": [
        "#17\n",
        "rng = np.random.default_rng(42)\n",
        "numeros = rng.integers(0,10,100)\n",
        "frequencia = np.bincount(numeros, minlength=10)\n",
        "print(frequencia)"
      ],
      "metadata": {
        "colab": {
          "base_uri": "https://localhost:8080/"
        },
        "id": "UxfAPWspPyRR",
        "outputId": "205dd1de-0648-4482-a289-2463718b24f4"
      },
      "execution_count": 153,
      "outputs": [
        {
          "output_type": "stream",
          "name": "stdout",
          "text": [
            "[ 9  9  6  9 15  7 11 15 12  7]\n"
          ]
        }
      ]
    },
    {
      "cell_type": "code",
      "source": [
        "#18\n",
        "v = np.arange(20)\n",
        "print(v[1::3])"
      ],
      "metadata": {
        "colab": {
          "base_uri": "https://localhost:8080/"
        },
        "id": "d08NLFu5PybS",
        "outputId": "14d3d904-6978-442c-8161-23c5419f1017"
      },
      "execution_count": 154,
      "outputs": [
        {
          "output_type": "stream",
          "name": "stdout",
          "text": [
            "[ 1  4  7 10 13 16 19]\n"
          ]
        }
      ]
    },
    {
      "cell_type": "code",
      "source": [
        "#19\n",
        "vetor = np.arange(20)\n",
        "mask = (v % 2 == 0)\n",
        "print(v[mask])"
      ],
      "metadata": {
        "colab": {
          "base_uri": "https://localhost:8080/"
        },
        "id": "nx0yRE-SPymD",
        "outputId": "57aa80ac-8e3a-40cb-f20f-92c1926161e3"
      },
      "execution_count": 155,
      "outputs": [
        {
          "output_type": "stream",
          "name": "stdout",
          "text": [
            "[ 0  2  4  6  8 10 12 14 16 18]\n"
          ]
        }
      ]
    },
    {
      "cell_type": "code",
      "source": [
        "#20\n",
        "lst = [[1,2,3],[4,5,6]]\n",
        "array = np.array(lst)\n",
        "print(array, \"shape:\", array.shape, \"dtype:\", array.dtype)"
      ],
      "metadata": {
        "colab": {
          "base_uri": "https://localhost:8080/"
        },
        "id": "5bEL9r3ePywP",
        "outputId": "0489347f-a376-4c2b-fe14-93dd60b3ebf1"
      },
      "execution_count": 156,
      "outputs": [
        {
          "output_type": "stream",
          "name": "stdout",
          "text": [
            "[[1 2 3]\n",
            " [4 5 6]] shape: (2, 3) dtype: int64\n"
          ]
        }
      ]
    },
    {
      "cell_type": "code",
      "source": [
        "#21\n",
        "dates = np.arange('2025-01-01', '2025-01-08', dtype='datetime64[D]')\n",
        "print(dates)"
      ],
      "metadata": {
        "colab": {
          "base_uri": "https://localhost:8080/"
        },
        "id": "2aO0f-C_Py7L",
        "outputId": "9fb8f860-a709-4fe1-fbeb-c2b6b12b399d"
      },
      "execution_count": 157,
      "outputs": [
        {
          "output_type": "stream",
          "name": "stdout",
          "text": [
            "['2025-01-01' '2025-01-02' '2025-01-03' '2025-01-04' '2025-01-05'\n",
            " '2025-01-06' '2025-01-07']\n"
          ]
        }
      ]
    },
    {
      "cell_type": "code",
      "source": [
        "#22\n",
        "A = np.array([[1.,2.,3.],[4.,5.,6.]])\n",
        "A_centered = A - A.mean(axis=0)\n",
        "print(A_centered)"
      ],
      "metadata": {
        "colab": {
          "base_uri": "https://localhost:8080/"
        },
        "id": "S6kCKnR3PzF7",
        "outputId": "5c99a891-c4d0-4127-9437-1e978da4deae"
      },
      "execution_count": 158,
      "outputs": [
        {
          "output_type": "stream",
          "name": "stdout",
          "text": [
            "[[-1.5 -1.5 -1.5]\n",
            " [ 1.5  1.5  1.5]]\n"
          ]
        }
      ]
    },
    {
      "cell_type": "code",
      "source": [
        "#23\n",
        "a = np.array([1,2,3])\n",
        "b = np.array([4,5,6])\n",
        "print(\"elemento:\", a * b)\n",
        "print(\"escalar:\", np.dot(a, b))"
      ],
      "metadata": {
        "colab": {
          "base_uri": "https://localhost:8080/"
        },
        "id": "VvwdCcn-PzSX",
        "outputId": "ebd2cb6b-60e3-4a31-ce97-ae41b75f0567"
      },
      "execution_count": 159,
      "outputs": [
        {
          "output_type": "stream",
          "name": "stdout",
          "text": [
            "elemento: [ 4 10 18]\n",
            "escalar: 32\n"
          ]
        }
      ]
    },
    {
      "cell_type": "code",
      "source": [
        "#24\n",
        "A = np.arange(12).reshape(3,4)\n",
        "A[:, [0, 2]] = A[:, [2, 0]]\n",
        "print(A)"
      ],
      "metadata": {
        "colab": {
          "base_uri": "https://localhost:8080/"
        },
        "id": "1rmtcoRuPzdV",
        "outputId": "f180d7c8-b104-4e79-cc8f-0908e2c202bb"
      },
      "execution_count": 160,
      "outputs": [
        {
          "output_type": "stream",
          "name": "stdout",
          "text": [
            "[[ 2  1  0  3]\n",
            " [ 6  5  4  7]\n",
            " [10  9  8 11]]\n"
          ]
        }
      ]
    },
    {
      "cell_type": "code",
      "source": [
        "#25\n",
        "a = np.array([[1, 2], [3, 4]])\n",
        "b_flat = a.flatten()\n",
        "b_ravel = a.ravel()\n",
        "b_ravel[0] = 99\n",
        "print(a)\n",
        "print(\"\\n\", b_flat)"
      ],
      "metadata": {
        "colab": {
          "base_uri": "https://localhost:8080/"
        },
        "id": "ecwXLGTNPzow",
        "outputId": "97650f6b-b948-424a-c59c-9cd01f5dd744"
      },
      "execution_count": 161,
      "outputs": [
        {
          "output_type": "stream",
          "name": "stdout",
          "text": [
            "[[99  2]\n",
            " [ 3  4]]\n",
            "\n",
            " [1 2 3 4]\n"
          ]
        }
      ]
    },
    {
      "cell_type": "code",
      "source": [
        "#26\n",
        "board = np.indices((8,8)).sum(axis=0) % 2\n",
        "print(board)"
      ],
      "metadata": {
        "colab": {
          "base_uri": "https://localhost:8080/"
        },
        "id": "L0vw4YQNPzyx",
        "outputId": "ac9b9800-39e2-45af-d274-559aa1c8ccad"
      },
      "execution_count": 162,
      "outputs": [
        {
          "output_type": "stream",
          "name": "stdout",
          "text": [
            "[[0 1 0 1 0 1 0 1]\n",
            " [1 0 1 0 1 0 1 0]\n",
            " [0 1 0 1 0 1 0 1]\n",
            " [1 0 1 0 1 0 1 0]\n",
            " [0 1 0 1 0 1 0 1]\n",
            " [1 0 1 0 1 0 1 0]\n",
            " [0 1 0 1 0 1 0 1]\n",
            " [1 0 1 0 1 0 1 0]]\n"
          ]
        }
      ]
    },
    {
      "cell_type": "code",
      "source": [
        "#27\n",
        "x = np.arange(-5, 6)\n",
        "x2 = np.where(x < 0, 0, x)\n",
        "print(x2)"
      ],
      "metadata": {
        "colab": {
          "base_uri": "https://localhost:8080/"
        },
        "id": "Ea-8RP1EPz9e",
        "outputId": "4afdb596-11c9-4ac0-b8f4-594e93793a03"
      },
      "execution_count": 163,
      "outputs": [
        {
          "output_type": "stream",
          "name": "stdout",
          "text": [
            "[0 0 0 0 0 0 1 2 3 4 5]\n"
          ]
        }
      ]
    },
    {
      "cell_type": "code",
      "source": [
        "#28\n",
        "rng = np.random.default_rng(0)\n",
        "data = rng.random(1_000_000)\n",
        "mean = data.mean()\n",
        "error = abs(mean - 0.5)\n",
        "print(\"Média:\", mean, \"Erro absoluto:\", error)"
      ],
      "metadata": {
        "colab": {
          "base_uri": "https://localhost:8080/"
        },
        "id": "0RL35551P0J3",
        "outputId": "77fcbcb0-1e98-4cd9-a66b-5a0fae3d5119"
      },
      "execution_count": 164,
      "outputs": [
        {
          "output_type": "stream",
          "name": "stdout",
          "text": [
            "Média: 0.5001592564636843 Erro absoluto: 0.00015925646368430968\n"
          ]
        }
      ]
    },
    {
      "cell_type": "code",
      "source": [
        "#29\n",
        "a = np.array([1,2,3])\n",
        "b = np.array([10,20,30,40])\n",
        "somas = a[:, None] + b\n",
        "print(somas)\n"
      ],
      "metadata": {
        "colab": {
          "base_uri": "https://localhost:8080/"
        },
        "id": "6u_x-Q-fP0Tn",
        "outputId": "c714f9c3-aa07-4ba5-c632-3aac7a2db363"
      },
      "execution_count": 165,
      "outputs": [
        {
          "output_type": "stream",
          "name": "stdout",
          "text": [
            "[[11 21 31 41]\n",
            " [12 22 32 42]\n",
            " [13 23 33 43]]\n"
          ]
        }
      ]
    },
    {
      "cell_type": "code",
      "source": [
        "#30\n",
        "from numpy.lib.stride_tricks import sliding_window_view\n",
        "s = np.array([1, 2, 3, 4, 5])\n",
        "k = np.array([1, 0, -1])\n",
        "sw = sliding_window_view(s, k.size)\n",
        "conv_valid = np.sum(sw * np.flip(k), axis=1)\n",
        "print(\"Convolução (valid):\", conv_valid)"
      ],
      "metadata": {
        "colab": {
          "base_uri": "https://localhost:8080/"
        },
        "id": "vGqdMFfgP0e1",
        "outputId": "f510ce30-ce49-43f3-cfe6-6fce1d41742f"
      },
      "execution_count": 166,
      "outputs": [
        {
          "output_type": "stream",
          "name": "stdout",
          "text": [
            "Convolução (valid): [2 2 2]\n"
          ]
        }
      ]
    },
    {
      "cell_type": "code",
      "source": [
        "#31\n",
        "A = rng.normal(size=(5,4))\n",
        "A_min = A.min(axis=0)\n",
        "A_max = A.max(axis=0)\n",
        "range_ = np.where(A_max != A_min, A_max - A_min, 1)\n",
        "A_norm = (A - A_min) / range_\n",
        "print(\"Original:\\n\", A)\n",
        "print(\"Normalizado:\\n\", A_norm)"
      ],
      "metadata": {
        "colab": {
          "base_uri": "https://localhost:8080/"
        },
        "id": "4izbJ41sP0pl",
        "outputId": "9344bc49-29fb-46d1-c28a-730bd9ba3997"
      },
      "execution_count": 167,
      "outputs": [
        {
          "output_type": "stream",
          "name": "stdout",
          "text": [
            "Original:\n",
            " [[ 1.49094907  0.94435386 -0.02251395 -0.13571596]\n",
            " [-0.95963055 -0.02685518  1.11267343  0.89208528]\n",
            " [ 0.52179943 -0.96786357  0.69747152 -1.57055269]\n",
            " [-0.4979807   0.66268666 -1.2872589  -0.4442346 ]\n",
            " [ 0.4030978  -0.88356851 -0.67175858  0.08502541]]\n",
            "Normalizado:\n",
            " [[1.         1.         0.52699192 0.58264217]\n",
            " [0.         0.49210324 1.         1.        ]\n",
            " [0.60452228 0.         0.82699433 0.        ]\n",
            " [0.18838394 0.85270127 0.         0.45736243]\n",
            " [0.5560841  0.04408236 0.2564657  0.67227831]]\n"
          ]
        }
      ]
    },
    {
      "cell_type": "code",
      "source": [
        "#32\n",
        "print(\"32. Ordenar por coluna\")\n",
        "A = np.array([[3,9],[1,4],[2,5]])\n",
        "idx = np.argsort(A[:,1])\n",
        "A_sorted = A[idx]\n",
        "print(A_sorted)"
      ],
      "metadata": {
        "colab": {
          "base_uri": "https://localhost:8080/"
        },
        "id": "yAfowxVtP00X",
        "outputId": "1da28f3e-5a1e-4725-ce2b-91bf1d3afca8"
      },
      "execution_count": 168,
      "outputs": [
        {
          "output_type": "stream",
          "name": "stdout",
          "text": [
            "32. Ordenar por coluna\n",
            "[[1 4]\n",
            " [2 5]\n",
            " [3 9]]\n"
          ]
        }
      ]
    },
    {
      "cell_type": "code",
      "source": [
        "#33\n",
        "x = np.array([3,1,2,3,2,3,1])\n",
        "uniq, first_idx, counts = np.unique(x, return_index=True, return_counts=True)\n",
        "print(\"Únicos:\", uniq)\n",
        "print(\"Primeira ocorrência:\", first_idx)\n",
        "print(\"Contagens:\", counts)"
      ],
      "metadata": {
        "colab": {
          "base_uri": "https://localhost:8080/"
        },
        "id": "MWXqB7y-P0_Q",
        "outputId": "ce53e561-22a3-4581-9a79-bdc5e942b70d"
      },
      "execution_count": 169,
      "outputs": [
        {
          "output_type": "stream",
          "name": "stdout",
          "text": [
            "Únicos: [1 2 3]\n",
            "Primeira ocorrência: [1 2 0]\n",
            "Contagens: [2 2 3]\n"
          ]
        }
      ]
    },
    {
      "cell_type": "code",
      "source": [
        "#34\n",
        "P = np.array([[0,0],[3,4],[6,8]])\n",
        "diff = P[:, None, :] - P[None, :, :]\n",
        "dist = np.sqrt(np.sum(diff**2, axis=-1))\n",
        "print(dist)"
      ],
      "metadata": {
        "colab": {
          "base_uri": "https://localhost:8080/"
        },
        "id": "N-b6D9rsP1KY",
        "outputId": "abf79c10-3a42-46ea-9b10-c8c7b89938b6"
      },
      "execution_count": 170,
      "outputs": [
        {
          "output_type": "stream",
          "name": "stdout",
          "text": [
            "[[ 0.  5. 10.]\n",
            " [ 5.  0.  5.]\n",
            " [10.  5.  0.]]\n"
          ]
        }
      ]
    },
    {
      "cell_type": "code",
      "source": [
        "#35\n",
        "X = rng.normal(size=(1000,3))\n",
        "cov = np.cov(X, rowvar=False)\n",
        "corr = np.corrcoef(X, rowvar=False)\n",
        "print(\"Covariância:\\n\", cov)\n",
        "print(\"Correlação:\\n\", corr)"
      ],
      "metadata": {
        "colab": {
          "base_uri": "https://localhost:8080/"
        },
        "id": "7aOCPCz-P1WE",
        "outputId": "81a67e30-18d9-48bc-953e-b86449b63a5c"
      },
      "execution_count": 171,
      "outputs": [
        {
          "output_type": "stream",
          "name": "stdout",
          "text": [
            "Covariância:\n",
            " [[ 1.08607638 -0.05549     0.00456659]\n",
            " [-0.05549     1.01136955  0.03083076]\n",
            " [ 0.00456659  0.03083076  1.01462456]]\n",
            "Correlação:\n",
            " [[ 1.         -0.05294557  0.0043502 ]\n",
            " [-0.05294557  1.          0.03043523]\n",
            " [ 0.0043502   0.03043523  1.        ]]\n"
          ]
        }
      ]
    },
    {
      "cell_type": "code",
      "source": [
        "#36\n",
        "y = np.array([2,0,1,2])\n",
        "n_classes = y.max() + 1\n",
        "onehot = np.eye(n_classes)[y]\n",
        "print(onehot)"
      ],
      "metadata": {
        "colab": {
          "base_uri": "https://localhost:8080/"
        },
        "id": "chVUooekP1hI",
        "outputId": "4ae12b25-3bb0-41e7-89b7-e5c0aecfa4e3"
      },
      "execution_count": 172,
      "outputs": [
        {
          "output_type": "stream",
          "name": "stdout",
          "text": [
            "[[0. 0. 1.]\n",
            " [1. 0. 0.]\n",
            " [0. 1. 0.]\n",
            " [0. 0. 1.]]\n"
          ]
        }
      ]
    },
    {
      "cell_type": "code",
      "source": [
        "#37"
      ],
      "metadata": {
        "id": "Tn4Kp07EP1tp"
      },
      "execution_count": 173,
      "outputs": []
    },
    {
      "cell_type": "code",
      "source": [
        "#38"
      ],
      "metadata": {
        "id": "YNXP9zYpP16k"
      },
      "execution_count": 174,
      "outputs": []
    },
    {
      "cell_type": "code",
      "source": [
        "#39"
      ],
      "metadata": {
        "id": "vs_oGiG6P2Gy"
      },
      "execution_count": 175,
      "outputs": []
    },
    {
      "cell_type": "code",
      "source": [
        "#40"
      ],
      "metadata": {
        "id": "K8WhnrrhP2S_"
      },
      "execution_count": 176,
      "outputs": []
    },
    {
      "cell_type": "code",
      "source": [
        "#41"
      ],
      "metadata": {
        "id": "_pyfFMbIP2eL"
      },
      "execution_count": 177,
      "outputs": []
    },
    {
      "cell_type": "code",
      "source": [
        "#42"
      ],
      "metadata": {
        "id": "v2D-wyaFP2qd"
      },
      "execution_count": 178,
      "outputs": []
    }
  ]
}